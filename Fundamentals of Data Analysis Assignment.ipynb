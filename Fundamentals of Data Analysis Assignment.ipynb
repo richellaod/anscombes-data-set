{
 "cells": [
  {
   "cell_type": "markdown",
   "metadata": {},
   "source": [
    "# Fundamentals of Data Analysis Assignment 2018\n",
    "\n",
    "## Richella O'Driscoll\n",
    "## H.Dip in Data Analytics\n",
    "\n",
    "## Problem Statement\n",
    "\n",
    "The following assignment concerns the well known Anscombe's quartet data set. There are four distinct tasks which are carried out below:\n",
    "\n",
    "* Explain the background to the data set - who created it, when it was created and any speculation I found regarding how it might have been created.\n",
    "* Plot the interesting aspects of the data set\n",
    "* Calculate the descriptive statistics of the variables in the dataset.\n",
    "* Explain why the data set is interesting "
   ]
  },
  {
   "cell_type": "markdown",
   "metadata": {},
   "source": [
    "## Anscombe's Data Set\n",
    "\n",
    "Anscombe’s quartet was created by British statistician Francis Anscombe (1918-2001) in 1973 with the purpose of demonstrating how vital it is that we graph all data prior to analysis and to also show the effect which outliers may have on statistical properties. The quartet data set consists of four different sets within which have next to identical figures can appear very different when the data is graphed.These four data sets consist of the same summary measures – for example mean, standard deviation, they also consist of the same correlation and also the exact same regression line, but they have extremely different distributions. These data sets each comprise of eleven data points.\n",
    "\n",
    "The main puropse of Anscombe creating this data set was to prove that statistics on their own are not enough to indicate what is going on in relation to statistical correlation and the so called \"Best Fit\". What this data set proves, is that analyst's must visually inspect any data set prior to applying statistical tests. These visualizations and graphs can in turn also provide a clear indication as to where the outliers are in the data and the influence these will have on the Line of Best Fit, as an indicator of how correlated the dependent and independent variables are to each other."
   ]
  },
  {
   "cell_type": "markdown",
   "metadata": {},
   "source": [
    "## My Analysis\n",
    "\n",
    "In order for me to compete this assignment, there were a number of resources I needed. These included:\n",
    "* Jupyter Notebook\n",
    "* Github\n",
    "* Python version 3.6 downloaded through Anaconda3\n",
    "* Anscombe's dataset which I downloaded within the seaborn library"
   ]
  },
  {
   "cell_type": "markdown",
   "metadata": {},
   "source": [
    "After a lot of research I realised that I would also need to ensure that there was a number of other libraries installed on Python so that I would be able to complete this project. These included matplotlib, numpy and pandas. From that I then had to ensure that other modules and functions were installed which would help me to extract the results from the Anscombe Data set and also give me the ability to create different types of graphs to display the data:"
   ]
  },
  {
   "cell_type": "code",
   "execution_count": 3,
   "metadata": {
    "collapsed": true
   },
   "outputs": [],
   "source": [
    ">>> import pandas as pd  # Data manipulation\n",
    ">>> import matplotlib.pyplot as plt  # Plots\n",
    ">>> import seaborn as sns  # Powerful plots\n",
    ">>> from scipy import stats  # Linear regression\n",
    ">>> import numpy as np  # Quick summary statistics\n"
   ]
  },
  {
   "cell_type": "markdown",
   "metadata": {},
   "source": [
    "Next I downloaded the data set"
   ]
  },
  {
   "cell_type": "code",
   "execution_count": 8,
   "metadata": {
    "collapsed": true
   },
   "outputs": [],
   "source": [
    "anscombe = sns.load_dataset(\"anscombe\")\n",
    "plt.show()"
   ]
  },
  {
   "cell_type": "code",
   "execution_count": null,
   "metadata": {
    "collapsed": true
   },
   "outputs": [],
   "source": []
  }
 ],
 "metadata": {
  "kernelspec": {
   "display_name": "Python 3",
   "language": "python",
   "name": "python3"
  },
  "language_info": {
   "codemirror_mode": {
    "name": "ipython",
    "version": 3
   },
   "file_extension": ".py",
   "mimetype": "text/x-python",
   "name": "python",
   "nbconvert_exporter": "python",
   "pygments_lexer": "ipython3",
   "version": "3.6.3"
  }
 },
 "nbformat": 4,
 "nbformat_minor": 2
}
